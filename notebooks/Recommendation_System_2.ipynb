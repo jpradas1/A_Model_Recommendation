{
 "cells": [
  {
   "cell_type": "markdown",
   "id": "4de195bf",
   "metadata": {},
   "source": [
    "# Recommendation Systems 2"
   ]
  },
  {
   "cell_type": "markdown",
   "id": "bb4cf6cf",
   "metadata": {},
   "source": [
    "## K Nearest Neighbor Cosine Similarity"
   ]
  },
  {
   "cell_type": "code",
   "execution_count": 57,
   "id": "d138efc2",
   "metadata": {},
   "outputs": [],
   "source": [
    "import numpy as np\n",
    "import pandas as pd\n",
    "import matplotlib.pyplot as plt\n",
    "import seaborn as sns\n",
    "\n",
    "import warnings\n",
    "warnings.filterwarnings('ignore')"
   ]
  },
  {
   "cell_type": "code",
   "execution_count": 58,
   "id": "af9eb163",
   "metadata": {},
   "outputs": [],
   "source": [
    "import sys\n",
    "sys.path.append('../../')\n",
    "\n",
    "from A_Model_Recommendation.ETL import ETL_class"
   ]
  },
  {
   "cell_type": "markdown",
   "id": "1829f95e",
   "metadata": {},
   "source": [
    "We're just goint to use the columns that will be relevant in the model applied"
   ]
  },
  {
   "cell_type": "code",
   "execution_count": 59,
   "id": "c35030f0",
   "metadata": {},
   "outputs": [
    {
     "name": "stdout",
     "output_type": "stream",
     "text": [
      "(22998, 3)\n"
     ]
    },
    {
     "data": {
      "text/html": [
       "<div>\n",
       "<style scoped>\n",
       "    .dataframe tbody tr th:only-of-type {\n",
       "        vertical-align: middle;\n",
       "    }\n",
       "\n",
       "    .dataframe tbody tr th {\n",
       "        vertical-align: top;\n",
       "    }\n",
       "\n",
       "    .dataframe thead th {\n",
       "        text-align: right;\n",
       "    }\n",
       "</style>\n",
       "<table border=\"1\" class=\"dataframe\">\n",
       "  <thead>\n",
       "    <tr style=\"text-align: right;\">\n",
       "      <th></th>\n",
       "      <th>id</th>\n",
       "      <th>title</th>\n",
       "      <th>listed_in</th>\n",
       "    </tr>\n",
       "  </thead>\n",
       "  <tbody>\n",
       "    <tr>\n",
       "      <th>0</th>\n",
       "      <td>as1</td>\n",
       "      <td>the grand seduction</td>\n",
       "      <td>comedy, drama</td>\n",
       "    </tr>\n",
       "    <tr>\n",
       "      <th>1</th>\n",
       "      <td>as2</td>\n",
       "      <td>take care good night</td>\n",
       "      <td>drama, international</td>\n",
       "    </tr>\n",
       "    <tr>\n",
       "      <th>2</th>\n",
       "      <td>as3</td>\n",
       "      <td>secrets of deception</td>\n",
       "      <td>action, drama, suspense</td>\n",
       "    </tr>\n",
       "    <tr>\n",
       "      <th>3</th>\n",
       "      <td>as4</td>\n",
       "      <td>pink: staying true</td>\n",
       "      <td>documentary</td>\n",
       "    </tr>\n",
       "    <tr>\n",
       "      <th>4</th>\n",
       "      <td>as5</td>\n",
       "      <td>monster maker</td>\n",
       "      <td>drama, fantasy</td>\n",
       "    </tr>\n",
       "  </tbody>\n",
       "</table>\n",
       "</div>"
      ],
      "text/plain": [
       "    id                 title                listed_in\n",
       "0  as1   the grand seduction            comedy, drama\n",
       "1  as2  take care good night     drama, international\n",
       "2  as3  secrets of deception  action, drama, suspense\n",
       "3  as4    pink: staying true              documentary\n",
       "4  as5         monster maker           drama, fantasy"
      ]
     },
     "execution_count": 59,
     "metadata": {},
     "output_type": "execute_result"
    }
   ],
   "source": [
    "path_rating = './../dataset/ratings/'\n",
    "path_titles = './../dataset/titles/'\n",
    "etl = ETL_class(path_titles, path_rating)\n",
    "\n",
    "df_movies = etl.get_movies()[['id', 'title', 'listed_in']]\n",
    "print(df_movies.shape)\n",
    "df_movies.head()"
   ]
  },
  {
   "cell_type": "code",
   "execution_count": 60,
   "id": "c6d2e7a1",
   "metadata": {},
   "outputs": [
    {
     "name": "stdout",
     "output_type": "stream",
     "text": [
      "(11024165, 3)\n"
     ]
    },
    {
     "data": {
      "text/html": [
       "<div>\n",
       "<style scoped>\n",
       "    .dataframe tbody tr th:only-of-type {\n",
       "        vertical-align: middle;\n",
       "    }\n",
       "\n",
       "    .dataframe tbody tr th {\n",
       "        vertical-align: top;\n",
       "    }\n",
       "\n",
       "    .dataframe thead th {\n",
       "        text-align: right;\n",
       "    }\n",
       "</style>\n",
       "<table border=\"1\" class=\"dataframe\">\n",
       "  <thead>\n",
       "    <tr style=\"text-align: right;\">\n",
       "      <th></th>\n",
       "      <th>userId</th>\n",
       "      <th>rating</th>\n",
       "      <th>id</th>\n",
       "    </tr>\n",
       "  </thead>\n",
       "  <tbody>\n",
       "    <tr>\n",
       "      <th>0</th>\n",
       "      <td>1</td>\n",
       "      <td>1.0</td>\n",
       "      <td>as680</td>\n",
       "    </tr>\n",
       "    <tr>\n",
       "      <th>1</th>\n",
       "      <td>1</td>\n",
       "      <td>4.5</td>\n",
       "      <td>ns2186</td>\n",
       "    </tr>\n",
       "    <tr>\n",
       "      <th>2</th>\n",
       "      <td>1</td>\n",
       "      <td>5.0</td>\n",
       "      <td>hs2381</td>\n",
       "    </tr>\n",
       "    <tr>\n",
       "      <th>3</th>\n",
       "      <td>1</td>\n",
       "      <td>5.0</td>\n",
       "      <td>ns3663</td>\n",
       "    </tr>\n",
       "    <tr>\n",
       "      <th>4</th>\n",
       "      <td>1</td>\n",
       "      <td>5.0</td>\n",
       "      <td>as9500</td>\n",
       "    </tr>\n",
       "  </tbody>\n",
       "</table>\n",
       "</div>"
      ],
      "text/plain": [
       "   userId  rating      id\n",
       "0       1     1.0   as680\n",
       "1       1     4.5  ns2186\n",
       "2       1     5.0  hs2381\n",
       "3       1     5.0  ns3663\n",
       "4       1     5.0  as9500"
      ]
     },
     "execution_count": 60,
     "metadata": {},
     "output_type": "execute_result"
    }
   ],
   "source": [
    "df_ratings = etl.get_ratings()[['userId', 'rating', 'movieId']].rename(columns={'movieId':'id'})\n",
    "print(df_ratings.shape)\n",
    "df_ratings.head()"
   ]
  },
  {
   "cell_type": "markdown",
   "id": "6bd6e6ee",
   "metadata": {},
   "source": [
    "Due the large amout of data we get had better to handle with a little portion of the whole"
   ]
  },
  {
   "cell_type": "code",
   "execution_count": 61,
   "id": "58c10b51",
   "metadata": {},
   "outputs": [
    {
     "name": "stdout",
     "output_type": "stream",
     "text": [
      "(17, 2)\n"
     ]
    },
    {
     "data": {
      "text/html": [
       "<div>\n",
       "<style scoped>\n",
       "    .dataframe tbody tr th:only-of-type {\n",
       "        vertical-align: middle;\n",
       "    }\n",
       "\n",
       "    .dataframe tbody tr th {\n",
       "        vertical-align: top;\n",
       "    }\n",
       "\n",
       "    .dataframe thead th {\n",
       "        text-align: right;\n",
       "    }\n",
       "</style>\n",
       "<table border=\"1\" class=\"dataframe\">\n",
       "  <thead>\n",
       "    <tr style=\"text-align: right;\">\n",
       "      <th></th>\n",
       "      <th>id</th>\n",
       "      <th>count</th>\n",
       "    </tr>\n",
       "  </thead>\n",
       "  <tbody>\n",
       "    <tr>\n",
       "      <th>1120</th>\n",
       "      <td>as2006</td>\n",
       "      <td>552</td>\n",
       "    </tr>\n",
       "    <tr>\n",
       "      <th>3553</th>\n",
       "      <td>as4197</td>\n",
       "      <td>576</td>\n",
       "    </tr>\n",
       "    <tr>\n",
       "      <th>4321</th>\n",
       "      <td>as4889</td>\n",
       "      <td>554</td>\n",
       "    </tr>\n",
       "    <tr>\n",
       "      <th>5111</th>\n",
       "      <td>as56</td>\n",
       "      <td>550</td>\n",
       "    </tr>\n",
       "    <tr>\n",
       "      <th>6664</th>\n",
       "      <td>as6998</td>\n",
       "      <td>556</td>\n",
       "    </tr>\n",
       "  </tbody>\n",
       "</table>\n",
       "</div>"
      ],
      "text/plain": [
       "          id  count\n",
       "1120  as2006    552\n",
       "3553  as4197    576\n",
       "4321  as4889    554\n",
       "5111    as56    550\n",
       "6664  as6998    556"
      ]
     },
     "execution_count": 61,
     "metadata": {},
     "output_type": "execute_result"
    }
   ],
   "source": [
    "df_count = df_ratings[['userId','id']].groupby('id').count()\n",
    "df_count.reset_index(inplace=True)\n",
    "df_count.rename(columns={'userId': 'count'}, inplace=True)\n",
    "\n",
    "# The filter on movies is that each movie must be count with 550 or more grades\n",
    "df_count = df_count.loc[df_count['count'] >= 550]\n",
    "print(df_count.shape)\n",
    "df_count.head()"
   ]
  },
  {
   "cell_type": "code",
   "execution_count": 62,
   "id": "f9d5475d",
   "metadata": {},
   "outputs": [
    {
     "name": "stdout",
     "output_type": "stream",
     "text": [
      "550\n",
      "576\n"
     ]
    }
   ],
   "source": [
    "print(df_count['count'].min())\n",
    "print(df_count['count'].max())"
   ]
  },
  {
   "cell_type": "code",
   "execution_count": 63,
   "id": "6803912e",
   "metadata": {},
   "outputs": [
    {
     "name": "stdout",
     "output_type": "stream",
     "text": [
      "(9438, 4)\n"
     ]
    },
    {
     "data": {
      "text/html": [
       "<div>\n",
       "<style scoped>\n",
       "    .dataframe tbody tr th:only-of-type {\n",
       "        vertical-align: middle;\n",
       "    }\n",
       "\n",
       "    .dataframe tbody tr th {\n",
       "        vertical-align: top;\n",
       "    }\n",
       "\n",
       "    .dataframe thead th {\n",
       "        text-align: right;\n",
       "    }\n",
       "</style>\n",
       "<table border=\"1\" class=\"dataframe\">\n",
       "  <thead>\n",
       "    <tr style=\"text-align: right;\">\n",
       "      <th></th>\n",
       "      <th>userId</th>\n",
       "      <th>rating</th>\n",
       "      <th>id</th>\n",
       "      <th>count</th>\n",
       "    </tr>\n",
       "  </thead>\n",
       "  <tbody>\n",
       "    <tr>\n",
       "      <th>378</th>\n",
       "      <td>9</td>\n",
       "      <td>3.0</td>\n",
       "      <td>as4889</td>\n",
       "      <td>554.0</td>\n",
       "    </tr>\n",
       "    <tr>\n",
       "      <th>773</th>\n",
       "      <td>12</td>\n",
       "      <td>5.0</td>\n",
       "      <td>as2006</td>\n",
       "      <td>552.0</td>\n",
       "    </tr>\n",
       "    <tr>\n",
       "      <th>1286</th>\n",
       "      <td>16</td>\n",
       "      <td>4.5</td>\n",
       "      <td>ns7279</td>\n",
       "      <td>558.0</td>\n",
       "    </tr>\n",
       "    <tr>\n",
       "      <th>1933</th>\n",
       "      <td>24</td>\n",
       "      <td>3.0</td>\n",
       "      <td>as9065</td>\n",
       "      <td>560.0</td>\n",
       "    </tr>\n",
       "    <tr>\n",
       "      <th>2305</th>\n",
       "      <td>24</td>\n",
       "      <td>2.0</td>\n",
       "      <td>as9469</td>\n",
       "      <td>556.0</td>\n",
       "    </tr>\n",
       "  </tbody>\n",
       "</table>\n",
       "</div>"
      ],
      "text/plain": [
       "      userId  rating      id  count\n",
       "378        9     3.0  as4889  554.0\n",
       "773       12     5.0  as2006  552.0\n",
       "1286      16     4.5  ns7279  558.0\n",
       "1933      24     3.0  as9065  560.0\n",
       "2305      24     2.0  as9469  556.0"
      ]
     },
     "execution_count": 63,
     "metadata": {},
     "output_type": "execute_result"
    }
   ],
   "source": [
    "# this is the final data we shall deal with\n",
    "df = pd.merge(df_ratings, df_count, on='id', how='left')\n",
    "df.dropna(inplace=True)\n",
    "print(df.shape)\n",
    "df.head()"
   ]
  },
  {
   "cell_type": "markdown",
   "id": "72af0ed6",
   "metadata": {},
   "source": [
    "**Whatever the model we use, we need to define a vector space to clustering, since as previous analysis we've shown it's better employ an unsupervised model to desing a recommendation system**"
   ]
  },
  {
   "cell_type": "markdown",
   "id": "6bcf84c3",
   "metadata": {},
   "source": [
    "#### BEWARE TO THE FOLLOWING CELL!!"
   ]
  },
  {
   "cell_type": "code",
   "execution_count": 64,
   "id": "b3594f72",
   "metadata": {},
   "outputs": [
    {
     "data": {
      "text/html": [
       "<div>\n",
       "<style scoped>\n",
       "    .dataframe tbody tr th:only-of-type {\n",
       "        vertical-align: middle;\n",
       "    }\n",
       "\n",
       "    .dataframe tbody tr th {\n",
       "        vertical-align: top;\n",
       "    }\n",
       "\n",
       "    .dataframe thead th {\n",
       "        text-align: right;\n",
       "    }\n",
       "</style>\n",
       "<table border=\"1\" class=\"dataframe\">\n",
       "  <thead>\n",
       "    <tr style=\"text-align: right;\">\n",
       "      <th>userId</th>\n",
       "      <th>9</th>\n",
       "      <th>12</th>\n",
       "      <th>16</th>\n",
       "      <th>24</th>\n",
       "      <th>41</th>\n",
       "      <th>65</th>\n",
       "      <th>68</th>\n",
       "      <th>75</th>\n",
       "      <th>79</th>\n",
       "      <th>95</th>\n",
       "      <th>...</th>\n",
       "      <th>270684</th>\n",
       "      <th>270734</th>\n",
       "      <th>270737</th>\n",
       "      <th>270757</th>\n",
       "      <th>270795</th>\n",
       "      <th>270809</th>\n",
       "      <th>270822</th>\n",
       "      <th>270850</th>\n",
       "      <th>270887</th>\n",
       "      <th>270896</th>\n",
       "    </tr>\n",
       "    <tr>\n",
       "      <th>id</th>\n",
       "      <th></th>\n",
       "      <th></th>\n",
       "      <th></th>\n",
       "      <th></th>\n",
       "      <th></th>\n",
       "      <th></th>\n",
       "      <th></th>\n",
       "      <th></th>\n",
       "      <th></th>\n",
       "      <th></th>\n",
       "      <th></th>\n",
       "      <th></th>\n",
       "      <th></th>\n",
       "      <th></th>\n",
       "      <th></th>\n",
       "      <th></th>\n",
       "      <th></th>\n",
       "      <th></th>\n",
       "      <th></th>\n",
       "      <th></th>\n",
       "      <th></th>\n",
       "    </tr>\n",
       "  </thead>\n",
       "  <tbody>\n",
       "    <tr>\n",
       "      <th>as2006</th>\n",
       "      <td>0.0</td>\n",
       "      <td>5.0</td>\n",
       "      <td>0.0</td>\n",
       "      <td>0.0</td>\n",
       "      <td>0.0</td>\n",
       "      <td>0.0</td>\n",
       "      <td>0.0</td>\n",
       "      <td>0.0</td>\n",
       "      <td>0.0</td>\n",
       "      <td>0.0</td>\n",
       "      <td>...</td>\n",
       "      <td>0.0</td>\n",
       "      <td>0.0</td>\n",
       "      <td>0.0</td>\n",
       "      <td>0.0</td>\n",
       "      <td>0.0</td>\n",
       "      <td>0.0</td>\n",
       "      <td>0.0</td>\n",
       "      <td>0.0</td>\n",
       "      <td>0.0</td>\n",
       "      <td>0.0</td>\n",
       "    </tr>\n",
       "    <tr>\n",
       "      <th>as4197</th>\n",
       "      <td>0.0</td>\n",
       "      <td>0.0</td>\n",
       "      <td>0.0</td>\n",
       "      <td>0.0</td>\n",
       "      <td>0.0</td>\n",
       "      <td>0.0</td>\n",
       "      <td>0.0</td>\n",
       "      <td>0.0</td>\n",
       "      <td>0.0</td>\n",
       "      <td>0.0</td>\n",
       "      <td>...</td>\n",
       "      <td>0.0</td>\n",
       "      <td>0.0</td>\n",
       "      <td>0.0</td>\n",
       "      <td>0.0</td>\n",
       "      <td>0.0</td>\n",
       "      <td>0.0</td>\n",
       "      <td>0.0</td>\n",
       "      <td>4.0</td>\n",
       "      <td>0.0</td>\n",
       "      <td>0.0</td>\n",
       "    </tr>\n",
       "    <tr>\n",
       "      <th>as4889</th>\n",
       "      <td>3.0</td>\n",
       "      <td>0.0</td>\n",
       "      <td>0.0</td>\n",
       "      <td>0.0</td>\n",
       "      <td>0.0</td>\n",
       "      <td>0.0</td>\n",
       "      <td>0.0</td>\n",
       "      <td>0.0</td>\n",
       "      <td>0.0</td>\n",
       "      <td>0.0</td>\n",
       "      <td>...</td>\n",
       "      <td>0.0</td>\n",
       "      <td>0.0</td>\n",
       "      <td>0.0</td>\n",
       "      <td>0.0</td>\n",
       "      <td>0.0</td>\n",
       "      <td>0.0</td>\n",
       "      <td>0.0</td>\n",
       "      <td>0.0</td>\n",
       "      <td>0.0</td>\n",
       "      <td>0.0</td>\n",
       "    </tr>\n",
       "    <tr>\n",
       "      <th>as56</th>\n",
       "      <td>0.0</td>\n",
       "      <td>0.0</td>\n",
       "      <td>0.0</td>\n",
       "      <td>0.0</td>\n",
       "      <td>0.0</td>\n",
       "      <td>0.0</td>\n",
       "      <td>0.0</td>\n",
       "      <td>0.0</td>\n",
       "      <td>0.0</td>\n",
       "      <td>0.0</td>\n",
       "      <td>...</td>\n",
       "      <td>0.0</td>\n",
       "      <td>0.0</td>\n",
       "      <td>0.0</td>\n",
       "      <td>0.0</td>\n",
       "      <td>0.0</td>\n",
       "      <td>0.0</td>\n",
       "      <td>0.0</td>\n",
       "      <td>0.0</td>\n",
       "      <td>0.0</td>\n",
       "      <td>0.0</td>\n",
       "    </tr>\n",
       "    <tr>\n",
       "      <th>as6998</th>\n",
       "      <td>0.0</td>\n",
       "      <td>0.0</td>\n",
       "      <td>0.0</td>\n",
       "      <td>0.0</td>\n",
       "      <td>0.0</td>\n",
       "      <td>0.0</td>\n",
       "      <td>0.0</td>\n",
       "      <td>0.0</td>\n",
       "      <td>0.0</td>\n",
       "      <td>0.0</td>\n",
       "      <td>...</td>\n",
       "      <td>0.0</td>\n",
       "      <td>0.0</td>\n",
       "      <td>0.0</td>\n",
       "      <td>0.0</td>\n",
       "      <td>4.0</td>\n",
       "      <td>0.0</td>\n",
       "      <td>0.0</td>\n",
       "      <td>0.0</td>\n",
       "      <td>0.0</td>\n",
       "      <td>5.0</td>\n",
       "    </tr>\n",
       "  </tbody>\n",
       "</table>\n",
       "<p>5 rows × 7943 columns</p>\n",
       "</div>"
      ],
      "text/plain": [
       "userId  9       12      16      24      41      65      68      75      \\\n",
       "id                                                                       \n",
       "as2006     0.0     5.0     0.0     0.0     0.0     0.0     0.0     0.0   \n",
       "as4197     0.0     0.0     0.0     0.0     0.0     0.0     0.0     0.0   \n",
       "as4889     3.0     0.0     0.0     0.0     0.0     0.0     0.0     0.0   \n",
       "as56       0.0     0.0     0.0     0.0     0.0     0.0     0.0     0.0   \n",
       "as6998     0.0     0.0     0.0     0.0     0.0     0.0     0.0     0.0   \n",
       "\n",
       "userId  79      95      ...  270684  270734  270737  270757  270795  270809  \\\n",
       "id                      ...                                                   \n",
       "as2006     0.0     0.0  ...     0.0     0.0     0.0     0.0     0.0     0.0   \n",
       "as4197     0.0     0.0  ...     0.0     0.0     0.0     0.0     0.0     0.0   \n",
       "as4889     0.0     0.0  ...     0.0     0.0     0.0     0.0     0.0     0.0   \n",
       "as56       0.0     0.0  ...     0.0     0.0     0.0     0.0     0.0     0.0   \n",
       "as6998     0.0     0.0  ...     0.0     0.0     0.0     0.0     4.0     0.0   \n",
       "\n",
       "userId  270822  270850  270887  270896  \n",
       "id                                      \n",
       "as2006     0.0     0.0     0.0     0.0  \n",
       "as4197     0.0     4.0     0.0     0.0  \n",
       "as4889     0.0     0.0     0.0     0.0  \n",
       "as56       0.0     0.0     0.0     0.0  \n",
       "as6998     0.0     0.0     0.0     5.0  \n",
       "\n",
       "[5 rows x 7943 columns]"
      ]
     },
     "execution_count": 64,
     "metadata": {},
     "output_type": "execute_result"
    }
   ],
   "source": [
    "# this' going to be our vector space\n",
    "from scipy.sparse import csr_matrix\n",
    "\n",
    "movies_rating = df.pivot_table(index='id', columns='userId', values='rating').fillna(0)\n",
    "\n",
    "# 'cause the movies_rating matrix has a lot of zeros, we use the sparce method to\n",
    "# save efficiently this matrix, and the model will be trained with this new matrix\n",
    "movie_rating_matrix = csr_matrix(movies_rating.values)\n",
    "movies_rating.head()"
   ]
  },
  {
   "cell_type": "markdown",
   "id": "49e95840",
   "metadata": {},
   "source": [
    "## Cosine Similarity"
   ]
  },
  {
   "cell_type": "markdown",
   "id": "fd61f3b7",
   "metadata": {},
   "source": [
    "Now, what will it be the model to implement?\n",
    "\n",
    "The model will be the cosine similarity. Let's see the following picture<br>\n",
    "\n",
    "<img src=\"./../.src/3D-cosine.png\" alt=\"Cosine\" width=\"300\" height=\"300\"/>\n",
    "\n",
    "The visual illustrate the distance between point or nodes the model takes. This distance is the cosine of the angle related to two point, for that we created a sample space or vector space which is the *movies_rating* in our case. This sample space allows us to visualite where the cluster are formed and apply some model.\n",
    "\n",
    "The distance is given by the equation:\n",
    "\n",
    "<img src=\"./../.src/eq-cosine.png\" alt=\"Cosine\" width=\"500\" height=\"100\"/>\n",
    "\n",
    "So the model help us is NearestNeighbers, where the metric is setup as 'cosine' metric."
   ]
  },
  {
   "cell_type": "code",
   "execution_count": 65,
   "id": "900d333e",
   "metadata": {},
   "outputs": [
    {
     "data": {
      "text/html": [
       "<style>#sk-container-id-3 {color: black;background-color: white;}#sk-container-id-3 pre{padding: 0;}#sk-container-id-3 div.sk-toggleable {background-color: white;}#sk-container-id-3 label.sk-toggleable__label {cursor: pointer;display: block;width: 100%;margin-bottom: 0;padding: 0.3em;box-sizing: border-box;text-align: center;}#sk-container-id-3 label.sk-toggleable__label-arrow:before {content: \"▸\";float: left;margin-right: 0.25em;color: #696969;}#sk-container-id-3 label.sk-toggleable__label-arrow:hover:before {color: black;}#sk-container-id-3 div.sk-estimator:hover label.sk-toggleable__label-arrow:before {color: black;}#sk-container-id-3 div.sk-toggleable__content {max-height: 0;max-width: 0;overflow: hidden;text-align: left;background-color: #f0f8ff;}#sk-container-id-3 div.sk-toggleable__content pre {margin: 0.2em;color: black;border-radius: 0.25em;background-color: #f0f8ff;}#sk-container-id-3 input.sk-toggleable__control:checked~div.sk-toggleable__content {max-height: 200px;max-width: 100%;overflow: auto;}#sk-container-id-3 input.sk-toggleable__control:checked~label.sk-toggleable__label-arrow:before {content: \"▾\";}#sk-container-id-3 div.sk-estimator input.sk-toggleable__control:checked~label.sk-toggleable__label {background-color: #d4ebff;}#sk-container-id-3 div.sk-label input.sk-toggleable__control:checked~label.sk-toggleable__label {background-color: #d4ebff;}#sk-container-id-3 input.sk-hidden--visually {border: 0;clip: rect(1px 1px 1px 1px);clip: rect(1px, 1px, 1px, 1px);height: 1px;margin: -1px;overflow: hidden;padding: 0;position: absolute;width: 1px;}#sk-container-id-3 div.sk-estimator {font-family: monospace;background-color: #f0f8ff;border: 1px dotted black;border-radius: 0.25em;box-sizing: border-box;margin-bottom: 0.5em;}#sk-container-id-3 div.sk-estimator:hover {background-color: #d4ebff;}#sk-container-id-3 div.sk-parallel-item::after {content: \"\";width: 100%;border-bottom: 1px solid gray;flex-grow: 1;}#sk-container-id-3 div.sk-label:hover label.sk-toggleable__label {background-color: #d4ebff;}#sk-container-id-3 div.sk-serial::before {content: \"\";position: absolute;border-left: 1px solid gray;box-sizing: border-box;top: 0;bottom: 0;left: 50%;z-index: 0;}#sk-container-id-3 div.sk-serial {display: flex;flex-direction: column;align-items: center;background-color: white;padding-right: 0.2em;padding-left: 0.2em;position: relative;}#sk-container-id-3 div.sk-item {position: relative;z-index: 1;}#sk-container-id-3 div.sk-parallel {display: flex;align-items: stretch;justify-content: center;background-color: white;position: relative;}#sk-container-id-3 div.sk-item::before, #sk-container-id-3 div.sk-parallel-item::before {content: \"\";position: absolute;border-left: 1px solid gray;box-sizing: border-box;top: 0;bottom: 0;left: 50%;z-index: -1;}#sk-container-id-3 div.sk-parallel-item {display: flex;flex-direction: column;z-index: 1;position: relative;background-color: white;}#sk-container-id-3 div.sk-parallel-item:first-child::after {align-self: flex-end;width: 50%;}#sk-container-id-3 div.sk-parallel-item:last-child::after {align-self: flex-start;width: 50%;}#sk-container-id-3 div.sk-parallel-item:only-child::after {width: 0;}#sk-container-id-3 div.sk-dashed-wrapped {border: 1px dashed gray;margin: 0 0.4em 0.5em 0.4em;box-sizing: border-box;padding-bottom: 0.4em;background-color: white;}#sk-container-id-3 div.sk-label label {font-family: monospace;font-weight: bold;display: inline-block;line-height: 1.2em;}#sk-container-id-3 div.sk-label-container {text-align: center;}#sk-container-id-3 div.sk-container {/* jupyter's `normalize.less` sets `[hidden] { display: none; }` but bootstrap.min.css set `[hidden] { display: none !important; }` so we also need the `!important` here to be able to override the default hidden behavior on the sphinx rendered scikit-learn.org. See: https://github.com/scikit-learn/scikit-learn/issues/21755 */display: inline-block !important;position: relative;}#sk-container-id-3 div.sk-text-repr-fallback {display: none;}</style><div id=\"sk-container-id-3\" class=\"sk-top-container\"><div class=\"sk-text-repr-fallback\"><pre>NearestNeighbors(algorithm=&#x27;brute&#x27;, metric=&#x27;cosine&#x27;)</pre><b>In a Jupyter environment, please rerun this cell to show the HTML representation or trust the notebook. <br />On GitHub, the HTML representation is unable to render, please try loading this page with nbviewer.org.</b></div><div class=\"sk-container\" hidden><div class=\"sk-item\"><div class=\"sk-estimator sk-toggleable\"><input class=\"sk-toggleable__control sk-hidden--visually\" id=\"sk-estimator-id-3\" type=\"checkbox\" checked><label for=\"sk-estimator-id-3\" class=\"sk-toggleable__label sk-toggleable__label-arrow\">NearestNeighbors</label><div class=\"sk-toggleable__content\"><pre>NearestNeighbors(algorithm=&#x27;brute&#x27;, metric=&#x27;cosine&#x27;)</pre></div></div></div></div></div>"
      ],
      "text/plain": [
       "NearestNeighbors(algorithm='brute', metric='cosine')"
      ]
     },
     "execution_count": 65,
     "metadata": {},
     "output_type": "execute_result"
    }
   ],
   "source": [
    "from sklearn.neighbors import NearestNeighbors\n",
    "\n",
    "model_knn = NearestNeighbors(metric = 'cosine', algorithm = 'brute')\n",
    "model_knn.fit(movie_rating_matrix)"
   ]
  },
  {
   "cell_type": "code",
   "execution_count": 66,
   "id": "58e93e16",
   "metadata": {},
   "outputs": [
    {
     "name": "stdout",
     "output_type": "stream",
     "text": [
      "3\n"
     ]
    }
   ],
   "source": [
    "# the model is already trained, so we can chose any movie and find which movies\n",
    "# are nearer to the input movie\n",
    "random_index = np.random.choice(movies_rating.shape[0]) # we choose it randomly\n",
    "print(random_index)\n",
    "distances, indices = model_knn.kneighbors(movies_rating.iloc[random_index, :].values.reshape(1,-1), n_neighbors=10)"
   ]
  },
  {
   "cell_type": "code",
   "execution_count": 67,
   "id": "1ef30f06",
   "metadata": {},
   "outputs": [
    {
     "data": {
      "text/plain": [
       "array([[ 3,  5,  4,  9,  7,  8,  1,  2, 13, 12]])"
      ]
     },
     "execution_count": 67,
     "metadata": {},
     "output_type": "execute_result"
    }
   ],
   "source": [
    "# these are the most related movies\n",
    "indices"
   ]
  },
  {
   "cell_type": "code",
   "execution_count": 68,
   "id": "3d7df61a",
   "metadata": {},
   "outputs": [
    {
     "name": "stdout",
     "output_type": "stream",
     "text": [
      "Recomendations for as56:\n",
      "\n",
      "1: as848, with discance of 0.9711835660342725:\n",
      "2: as6998, with discance of 0.973844403349408:\n",
      "3: hs2360, with discance of 0.974193626761002:\n",
      "4: as9469, with discance of 0.9749528305217471:\n",
      "5: ds552, with discance of 0.9780828386688203:\n",
      "6: as4197, with discance of 0.9792641509815775:\n",
      "7: as4889, with discance of 0.9796085353703744:\n",
      "8: ns5992, with discance of 0.9798126701617894:\n",
      "9: ns1847, with discance of 0.9811588831971081:\n"
     ]
    }
   ],
   "source": [
    "# so, the most related movies and the distances between them and the input value are\n",
    "for ii in range(0, len(distances.flatten())):\n",
    "    if ii == 0:\n",
    "        print('Recomendations for {}:\\n'.format(movies_rating.index[random_index]))\n",
    "    else:\n",
    "        idx = indices.flatten()[ii]\n",
    "        mox = movies_rating.index[idx]\n",
    "        dix = distances.flatten()[ii]\n",
    "        print('{}: {}, with discance of {}:'.format(ii, mox, dix))"
   ]
  },
  {
   "cell_type": "code",
   "execution_count": 69,
   "id": "34d8ff55",
   "metadata": {},
   "outputs": [
    {
     "name": "stdout",
     "output_type": "stream",
     "text": [
      "3\n"
     ]
    },
    {
     "data": {
      "text/html": [
       "<div>\n",
       "<style scoped>\n",
       "    .dataframe tbody tr th:only-of-type {\n",
       "        vertical-align: middle;\n",
       "    }\n",
       "\n",
       "    .dataframe tbody tr th {\n",
       "        vertical-align: top;\n",
       "    }\n",
       "\n",
       "    .dataframe thead th {\n",
       "        text-align: right;\n",
       "    }\n",
       "</style>\n",
       "<table border=\"1\" class=\"dataframe\">\n",
       "  <thead>\n",
       "    <tr style=\"text-align: right;\">\n",
       "      <th></th>\n",
       "      <th>id</th>\n",
       "      <th>title</th>\n",
       "      <th>listed_in</th>\n",
       "    </tr>\n",
       "  </thead>\n",
       "  <tbody>\n",
       "    <tr>\n",
       "      <th>55</th>\n",
       "      <td>as56</td>\n",
       "      <td>yatra (malayalam)</td>\n",
       "      <td>drama, international</td>\n",
       "    </tr>\n",
       "  </tbody>\n",
       "</table>\n",
       "</div>"
      ],
      "text/plain": [
       "      id              title             listed_in\n",
       "55  as56  yatra (malayalam)  drama, international"
      ]
     },
     "execution_count": 69,
     "metadata": {},
     "output_type": "execute_result"
    }
   ],
   "source": [
    "print(indices[0][0])\n",
    "idx = movies_rating.index[random_index]\n",
    "df_movies.loc[df_movies['id'] == idx]"
   ]
  },
  {
   "cell_type": "code",
   "execution_count": 70,
   "id": "10a08165",
   "metadata": {},
   "outputs": [
    {
     "data": {
      "text/plain": [
       "{'as56': 0.0,\n",
       " 'as848': 0.9711835660342725,\n",
       " 'as6998': 0.973844403349408,\n",
       " 'hs2360': 0.974193626761002,\n",
       " 'as9469': 0.9749528305217471,\n",
       " 'ds552': 0.9780828386688203,\n",
       " 'as4197': 0.9792641509815775,\n",
       " 'as4889': 0.9796085353703744,\n",
       " 'ns5992': 0.9798126701617894,\n",
       " 'ns1847': 0.9811588831971081}"
      ]
     },
     "execution_count": 70,
     "metadata": {},
     "output_type": "execute_result"
    }
   ],
   "source": [
    "recom = {movies_rating.index[k]: v for (k, v) in zip(indices.flatten(), distances.flatten())}\n",
    "recom"
   ]
  },
  {
   "cell_type": "code",
   "execution_count": 74,
   "id": "094380fe",
   "metadata": {},
   "outputs": [
    {
     "data": {
      "text/html": [
       "<div>\n",
       "<style scoped>\n",
       "    .dataframe tbody tr th:only-of-type {\n",
       "        vertical-align: middle;\n",
       "    }\n",
       "\n",
       "    .dataframe tbody tr th {\n",
       "        vertical-align: top;\n",
       "    }\n",
       "\n",
       "    .dataframe thead th {\n",
       "        text-align: right;\n",
       "    }\n",
       "</style>\n",
       "<table border=\"1\" class=\"dataframe\">\n",
       "  <thead>\n",
       "    <tr style=\"text-align: right;\">\n",
       "      <th></th>\n",
       "      <th>id</th>\n",
       "      <th>title</th>\n",
       "      <th>listed_in</th>\n",
       "    </tr>\n",
       "  </thead>\n",
       "  <tbody>\n",
       "    <tr>\n",
       "      <th>55</th>\n",
       "      <td>as56</td>\n",
       "      <td>yatra (malayalam)</td>\n",
       "      <td>drama, international</td>\n",
       "    </tr>\n",
       "    <tr>\n",
       "      <th>847</th>\n",
       "      <td>as848</td>\n",
       "      <td>superbook</td>\n",
       "      <td>animation, faith and spirituality, kids</td>\n",
       "    </tr>\n",
       "    <tr>\n",
       "      <th>6997</th>\n",
       "      <td>as6998</td>\n",
       "      <td>sideways</td>\n",
       "      <td>comedy, drama, romance</td>\n",
       "    </tr>\n",
       "    <tr>\n",
       "      <th>2359</th>\n",
       "      <td>hs2360</td>\n",
       "      <td>dietland</td>\n",
       "      <td>comedy, drama</td>\n",
       "    </tr>\n",
       "    <tr>\n",
       "      <th>9468</th>\n",
       "      <td>as9469</td>\n",
       "      <td>all good things</td>\n",
       "      <td>drama, romance, suspense</td>\n",
       "    </tr>\n",
       "    <tr>\n",
       "      <th>551</th>\n",
       "      <td>ds552</td>\n",
       "      <td>national treasure</td>\n",
       "      <td>action-adventure, mystery, thriller</td>\n",
       "    </tr>\n",
       "    <tr>\n",
       "      <th>4196</th>\n",
       "      <td>as4197</td>\n",
       "      <td>from other worlds</td>\n",
       "      <td>comedy, science fiction</td>\n",
       "    </tr>\n",
       "    <tr>\n",
       "      <th>4888</th>\n",
       "      <td>as4889</td>\n",
       "      <td>a stone in the water</td>\n",
       "      <td>horror, suspense</td>\n",
       "    </tr>\n",
       "    <tr>\n",
       "      <th>5991</th>\n",
       "      <td>ns5992</td>\n",
       "      <td>14 cameras</td>\n",
       "      <td>horror movies, thrillers</td>\n",
       "    </tr>\n",
       "    <tr>\n",
       "      <th>1846</th>\n",
       "      <td>ns1847</td>\n",
       "      <td>el-khawaga's dilemma</td>\n",
       "      <td>action &amp; adventure, comedies, international mo...</td>\n",
       "    </tr>\n",
       "  </tbody>\n",
       "</table>\n",
       "</div>"
      ],
      "text/plain": [
       "          id                 title  \\\n",
       "55      as56     yatra (malayalam)   \n",
       "847    as848             superbook   \n",
       "6997  as6998              sideways   \n",
       "2359  hs2360              dietland   \n",
       "9468  as9469       all good things   \n",
       "551    ds552     national treasure   \n",
       "4196  as4197     from other worlds   \n",
       "4888  as4889  a stone in the water   \n",
       "5991  ns5992            14 cameras   \n",
       "1846  ns1847  el-khawaga's dilemma   \n",
       "\n",
       "                                              listed_in  \n",
       "55                                 drama, international  \n",
       "847             animation, faith and spirituality, kids  \n",
       "6997                             comedy, drama, romance  \n",
       "2359                                      comedy, drama  \n",
       "9468                           drama, romance, suspense  \n",
       "551                 action-adventure, mystery, thriller  \n",
       "4196                            comedy, science fiction  \n",
       "4888                                   horror, suspense  \n",
       "5991                           horror movies, thrillers  \n",
       "1846  action & adventure, comedies, international mo...  "
      ]
     },
     "execution_count": 74,
     "metadata": {},
     "output_type": "execute_result"
    }
   ],
   "source": [
    "df_total = [pd.DataFrame(None, columns=['id', 'title', 'listed_in'])]\n",
    "for k in recom.keys():\n",
    "    df_total.append(df_movies.loc[df_movies['id'] == k][['id', 'title', 'listed_in']])\n",
    "df_total = pd.concat(df_total)\n",
    "df_total"
   ]
  },
  {
   "cell_type": "markdown",
   "id": "2462aed7",
   "metadata": {},
   "source": [
    "Now, what about if we had a user and a movie that the user have not watched yet? \n",
    "\n",
    "So we need find the similarity between this movie and the movies in the historical user's records, and if there's some similarity bewteen we can choose to recomment the movie or not.\n",
    "\n",
    "For that it's defined a parameter 'threshold' to \"measure\" the similary whether or not the similarity is greater than the treshold we can take a decision."
   ]
  },
  {
   "cell_type": "code",
   "execution_count": null,
   "id": "a774b293",
   "metadata": {},
   "outputs": [
    {
     "data": {
      "text/plain": [
       "array(['as4889'], dtype=object)"
      ]
     },
     "execution_count": 47,
     "metadata": {},
     "output_type": "execute_result"
    }
   ],
   "source": [
    "user = 9\n",
    "title = df_movies.loc[df_movies['id'] == 'as2006', 'title'].values[0]\n",
    "\n",
    "# records for this user\n",
    "records = df.loc[df['userId'] == user, 'id'].values\n",
    "\n",
    "records"
   ]
  },
  {
   "cell_type": "code",
   "execution_count": null,
   "id": "2c0eb706",
   "metadata": {},
   "outputs": [
    {
     "data": {
      "text/plain": [
       "'as2006'"
      ]
     },
     "execution_count": 48,
     "metadata": {},
     "output_type": "execute_result"
    }
   ],
   "source": [
    "# movie id to get similarity\n",
    "recom = df_movies.loc[df_movies['title'] == title, 'id'].values[0]\n",
    "recom"
   ]
  },
  {
   "cell_type": "code",
   "execution_count": null,
   "id": "6e9963df",
   "metadata": {},
   "outputs": [
    {
     "data": {
      "text/plain": [
       "array([[0., 5., 0., ..., 0., 0., 0.]])"
      ]
     },
     "execution_count": 49,
     "metadata": {},
     "output_type": "execute_result"
    }
   ],
   "source": [
    "# vector related to this movies\n",
    "sample2 = movies_rating.loc[recom, :].values.reshape(1,-1)\n",
    "sample2"
   ]
  },
  {
   "cell_type": "code",
   "execution_count": null,
   "id": "01c07f87",
   "metadata": {},
   "outputs": [
    {
     "data": {
      "text/plain": [
       "[array([[0., 0., 0., ..., 0., 0., 0.]]),\n",
       " array([[0., 0., 0., ..., 0., 0., 0.]]),\n",
       " array([[0., 0., 0., ..., 0., 0., 0.]])]"
      ]
     },
     "execution_count": 50,
     "metadata": {},
     "output_type": "execute_result"
    }
   ],
   "source": [
    "# here we're looking for the most related movies to the original one\n",
    "Knneighbors = 8\n",
    "distances, indices = model_knn.kneighbors(sample2, n_neighbors=Knneighbors)\n",
    "idx_sort = np.argsort(distances[0])[::-1]\n",
    "indices = [indices[0][ii] for ii in idx_sort]\n",
    "\n",
    "# we choose some of the most related\n",
    "knn = int(np.sqrt(Knneighbors)) + 1\n",
    "most_similar_samples = [movies_rating.iloc[indices[x]].values.reshape(1,-1) for x in range(knn)]\n",
    "most_similar_samples"
   ]
  },
  {
   "cell_type": "code",
   "execution_count": null,
   "id": "c4abdcb8",
   "metadata": {},
   "outputs": [
    {
     "data": {
      "text/plain": [
       "array([0.02215407, 0.0139096 , 0.02830649])"
      ]
     },
     "execution_count": 51,
     "metadata": {},
     "output_type": "execute_result"
    }
   ],
   "source": [
    "from sklearn.metrics.pairwise import cosine_similarity\n",
    "\n",
    "# we compute the similarity between the original movie with each movie in the\n",
    "# historical records\n",
    "similarity = []\n",
    "for r in records:\n",
    "    sample1 = movies_rating.loc[r, :].values.reshape(1,-1)\n",
    "    MSS = [cosine_similarity(sample1, mss)[0][0] for mss in most_similar_samples]\n",
    "    similarity.append(MSS)\n",
    "\n",
    "similarity = np.array(similarity).flatten()\n",
    "similarity"
   ]
  },
  {
   "cell_type": "code",
   "execution_count": null,
   "id": "17344e34",
   "metadata": {},
   "outputs": [
    {
     "name": "stdout",
     "output_type": "stream",
     "text": [
      "The user '9' may not like the film 'jonas kaufmann - a global star in private'\n"
     ]
    }
   ],
   "source": [
    "# Finally, rest to decise if the enough similarity with any movie to recomment\n",
    "matching = 0.7 # this could work as our threshold to decise\n",
    "\n",
    "is_greater = similarity > matching\n",
    "\n",
    "if is_greater.any():\n",
    "    print(\"The movie '{}' is recommended for the user '{}'\".format(title,user))\n",
    "else:\n",
    "    print(\"The user '{}' may not like the film '{}'\".format(user, title))"
   ]
  },
  {
   "cell_type": "code",
   "execution_count": null,
   "id": "ba01688f",
   "metadata": {},
   "outputs": [
    {
     "name": "stdout",
     "output_type": "stream",
     "text": [
      "The movie 'jonas kaufmann - a global star in private' is recommended for the user '9'\n"
     ]
    }
   ],
   "source": [
    "matching = 0.025 # a non-sense threshold\n",
    "\n",
    "is_greater = similarity > matching\n",
    "\n",
    "if is_greater.any():\n",
    "    print(\"The movie '{}' is recommended for the user '{}'\".format(title,user))\n",
    "else:\n",
    "    print(\"The user '{}' may not like the film '{}'\".format(user, title))"
   ]
  }
 ],
 "metadata": {
  "kernelspec": {
   "display_name": "Python 3 (ipykernel)",
   "language": "python",
   "name": "python3"
  },
  "language_info": {
   "codemirror_mode": {
    "name": "ipython",
    "version": 3
   },
   "file_extension": ".py",
   "mimetype": "text/x-python",
   "name": "python",
   "nbconvert_exporter": "python",
   "pygments_lexer": "ipython3",
   "version": "3.10.9"
  }
 },
 "nbformat": 4,
 "nbformat_minor": 5
}
