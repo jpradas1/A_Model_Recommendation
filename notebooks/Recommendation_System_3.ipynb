{
 "cells": [
  {
   "attachments": {},
   "cell_type": "markdown",
   "id": "042b2d93",
   "metadata": {},
   "source": [
    "# Recommendation Systems 3"
   ]
  },
  {
   "attachments": {},
   "cell_type": "markdown",
   "id": "a4c499d8",
   "metadata": {},
   "source": [
    "### Surprise Model"
   ]
  },
  {
   "cell_type": "code",
   "execution_count": 20,
   "id": "fb391f7b",
   "metadata": {},
   "outputs": [],
   "source": [
    "import numpy as np\n",
    "import pandas as pd\n",
    "import matplotlib.pyplot as plt\n",
    "import seaborn as sns\n",
    "\n",
    "import warnings\n",
    "warnings.filterwarnings('ignore')"
   ]
  },
  {
   "cell_type": "code",
   "execution_count": 21,
   "id": "efd622c0",
   "metadata": {},
   "outputs": [],
   "source": [
    "import sys\n",
    "sys.path.append('../../')\n",
    "\n",
    "from A_Model_Recommendation.ETL import ETL_class"
   ]
  },
  {
   "cell_type": "code",
   "execution_count": 22,
   "id": "afe558ad",
   "metadata": {},
   "outputs": [
    {
     "name": "stdout",
     "output_type": "stream",
     "text": [
      "(11024165, 3)\n"
     ]
    },
    {
     "data": {
      "text/html": [
       "<div>\n",
       "<style scoped>\n",
       "    .dataframe tbody tr th:only-of-type {\n",
       "        vertical-align: middle;\n",
       "    }\n",
       "\n",
       "    .dataframe tbody tr th {\n",
       "        vertical-align: top;\n",
       "    }\n",
       "\n",
       "    .dataframe thead th {\n",
       "        text-align: right;\n",
       "    }\n",
       "</style>\n",
       "<table border=\"1\" class=\"dataframe\">\n",
       "  <thead>\n",
       "    <tr style=\"text-align: right;\">\n",
       "      <th></th>\n",
       "      <th>userId</th>\n",
       "      <th>rating</th>\n",
       "      <th>id</th>\n",
       "    </tr>\n",
       "  </thead>\n",
       "  <tbody>\n",
       "    <tr>\n",
       "      <th>0</th>\n",
       "      <td>1</td>\n",
       "      <td>1.0</td>\n",
       "      <td>as680</td>\n",
       "    </tr>\n",
       "    <tr>\n",
       "      <th>1</th>\n",
       "      <td>1</td>\n",
       "      <td>4.5</td>\n",
       "      <td>ns2186</td>\n",
       "    </tr>\n",
       "    <tr>\n",
       "      <th>2</th>\n",
       "      <td>1</td>\n",
       "      <td>5.0</td>\n",
       "      <td>hs2381</td>\n",
       "    </tr>\n",
       "    <tr>\n",
       "      <th>3</th>\n",
       "      <td>1</td>\n",
       "      <td>5.0</td>\n",
       "      <td>ns3663</td>\n",
       "    </tr>\n",
       "    <tr>\n",
       "      <th>4</th>\n",
       "      <td>1</td>\n",
       "      <td>5.0</td>\n",
       "      <td>as9500</td>\n",
       "    </tr>\n",
       "  </tbody>\n",
       "</table>\n",
       "</div>"
      ],
      "text/plain": [
       "   userId  rating      id\n",
       "0       1     1.0   as680\n",
       "1       1     4.5  ns2186\n",
       "2       1     5.0  hs2381\n",
       "3       1     5.0  ns3663\n",
       "4       1     5.0  as9500"
      ]
     },
     "execution_count": 22,
     "metadata": {},
     "output_type": "execute_result"
    }
   ],
   "source": [
    "path_rating = './../dataset/ratings/'\n",
    "path_titles = './../dataset/titles/'\n",
    "etl = ETL_class(path_titles, path_rating)\n",
    "\n",
    "df_ratings = etl.get_ratings()[['userId', 'rating', 'movieId']].rename(columns={'movieId':'id'})\n",
    "print(df_ratings.shape)\n",
    "df_ratings.head()"
   ]
  },
  {
   "cell_type": "code",
   "execution_count": 24,
   "id": "11f8a6b8",
   "metadata": {},
   "outputs": [
    {
     "name": "stdout",
     "output_type": "stream",
     "text": [
      "(4221, 2)\n"
     ]
    },
    {
     "data": {
      "text/html": [
       "<div>\n",
       "<style scoped>\n",
       "    .dataframe tbody tr th:only-of-type {\n",
       "        vertical-align: middle;\n",
       "    }\n",
       "\n",
       "    .dataframe tbody tr th {\n",
       "        vertical-align: top;\n",
       "    }\n",
       "\n",
       "    .dataframe thead th {\n",
       "        text-align: right;\n",
       "    }\n",
       "</style>\n",
       "<table border=\"1\" class=\"dataframe\">\n",
       "  <thead>\n",
       "    <tr style=\"text-align: right;\">\n",
       "      <th></th>\n",
       "      <th>id</th>\n",
       "      <th>count</th>\n",
       "    </tr>\n",
       "  </thead>\n",
       "  <tbody>\n",
       "    <tr>\n",
       "      <th>0</th>\n",
       "      <td>as1</td>\n",
       "      <td>502</td>\n",
       "    </tr>\n",
       "    <tr>\n",
       "      <th>1</th>\n",
       "      <td>as10</td>\n",
       "      <td>513</td>\n",
       "    </tr>\n",
       "    <tr>\n",
       "      <th>16</th>\n",
       "      <td>as1012</td>\n",
       "      <td>508</td>\n",
       "    </tr>\n",
       "    <tr>\n",
       "      <th>25</th>\n",
       "      <td>as1020</td>\n",
       "      <td>529</td>\n",
       "    </tr>\n",
       "    <tr>\n",
       "      <th>28</th>\n",
       "      <td>as1023</td>\n",
       "      <td>502</td>\n",
       "    </tr>\n",
       "  </tbody>\n",
       "</table>\n",
       "</div>"
      ],
      "text/plain": [
       "        id  count\n",
       "0      as1    502\n",
       "1     as10    513\n",
       "16  as1012    508\n",
       "25  as1020    529\n",
       "28  as1023    502"
      ]
     },
     "execution_count": 24,
     "metadata": {},
     "output_type": "execute_result"
    }
   ],
   "source": [
    "df_count = df_ratings[['userId','id']].groupby('id').count()\n",
    "df_count.reset_index(inplace=True)\n",
    "df_count.rename(columns={'userId': 'count'}, inplace=True)\n",
    "\n",
    "# The filter on movies is that each movie must be count with 500 or more grades\n",
    "df_count = df_count.loc[df_count['count'] >= 500]\n",
    "print(df_count.shape)\n",
    "df_count.head()"
   ]
  },
  {
   "cell_type": "code",
   "execution_count": 25,
   "id": "68d5959f",
   "metadata": {},
   "outputs": [
    {
     "name": "stdout",
     "output_type": "stream",
     "text": [
      "(2158026, 4)\n"
     ]
    },
    {
     "data": {
      "text/html": [
       "<div>\n",
       "<style scoped>\n",
       "    .dataframe tbody tr th:only-of-type {\n",
       "        vertical-align: middle;\n",
       "    }\n",
       "\n",
       "    .dataframe tbody tr th {\n",
       "        vertical-align: top;\n",
       "    }\n",
       "\n",
       "    .dataframe thead th {\n",
       "        text-align: right;\n",
       "    }\n",
       "</style>\n",
       "<table border=\"1\" class=\"dataframe\">\n",
       "  <thead>\n",
       "    <tr style=\"text-align: right;\">\n",
       "      <th></th>\n",
       "      <th>userId</th>\n",
       "      <th>rating</th>\n",
       "      <th>id</th>\n",
       "      <th>count</th>\n",
       "    </tr>\n",
       "  </thead>\n",
       "  <tbody>\n",
       "    <tr>\n",
       "      <th>1</th>\n",
       "      <td>1</td>\n",
       "      <td>4.5</td>\n",
       "      <td>ns2186</td>\n",
       "      <td>501.0</td>\n",
       "    </tr>\n",
       "    <tr>\n",
       "      <th>5</th>\n",
       "      <td>1</td>\n",
       "      <td>4.0</td>\n",
       "      <td>as3004</td>\n",
       "      <td>506.0</td>\n",
       "    </tr>\n",
       "    <tr>\n",
       "      <th>13</th>\n",
       "      <td>1</td>\n",
       "      <td>3.5</td>\n",
       "      <td>ns3830</td>\n",
       "      <td>527.0</td>\n",
       "    </tr>\n",
       "    <tr>\n",
       "      <th>16</th>\n",
       "      <td>1</td>\n",
       "      <td>5.0</td>\n",
       "      <td>hs2056</td>\n",
       "      <td>507.0</td>\n",
       "    </tr>\n",
       "    <tr>\n",
       "      <th>17</th>\n",
       "      <td>1</td>\n",
       "      <td>5.0</td>\n",
       "      <td>ns5413</td>\n",
       "      <td>521.0</td>\n",
       "    </tr>\n",
       "  </tbody>\n",
       "</table>\n",
       "</div>"
      ],
      "text/plain": [
       "    userId  rating      id  count\n",
       "1        1     4.5  ns2186  501.0\n",
       "5        1     4.0  as3004  506.0\n",
       "13       1     3.5  ns3830  527.0\n",
       "16       1     5.0  hs2056  507.0\n",
       "17       1     5.0  ns5413  521.0"
      ]
     },
     "execution_count": 25,
     "metadata": {},
     "output_type": "execute_result"
    }
   ],
   "source": [
    "# this is the final data we shall deal with\n",
    "df = pd.merge(df_ratings, df_count, on='id', how='left')\n",
    "df.dropna(inplace=True)\n",
    "print(df.shape)\n",
    "df.head()"
   ]
  },
  {
   "cell_type": "code",
   "execution_count": 26,
   "id": "b5a6918b",
   "metadata": {},
   "outputs": [],
   "source": [
    "from surprise import Dataset, Reader, SVD\n",
    "from surprise.model_selection import cross_validate\n",
    "\n",
    "reader = Reader(rating_scale=(1, 5))\n",
    "data = Dataset.load_from_df(df[['userId', 'id', 'rating']], reader)"
   ]
  },
  {
   "cell_type": "code",
   "execution_count": 27,
   "id": "e099887e",
   "metadata": {},
   "outputs": [
    {
     "name": "stdout",
     "output_type": "stream",
     "text": [
      "Evaluating RMSE, MAE of algorithm SVD on 5 split(s).\n",
      "\n",
      "                  Fold 1  Fold 2  Fold 3  Fold 4  Fold 5  Mean    Std     \n",
      "RMSE (testset)    1.0040  1.0055  1.0085  1.0056  1.0071  1.0062  0.0015  \n",
      "MAE (testset)     0.7838  0.7840  0.7867  0.7840  0.7858  0.7849  0.0012  \n",
      "Fit time          22.86   19.99   19.46   23.29   22.97   21.72   1.64    \n",
      "Test time         4.56    4.10    4.17    5.22    4.21    4.45    0.41    \n"
     ]
    },
    {
     "data": {
      "text/plain": [
       "{'test_rmse': array([1.00403425, 1.00551995, 1.00852877, 1.00560784, 1.00712571]),\n",
       " 'test_mae': array([0.7837924 , 0.78403552, 0.78667504, 0.78400773, 0.78580946]),\n",
       " 'fit_time': (22.857370853424072,\n",
       "  19.99215292930603,\n",
       "  19.460212230682373,\n",
       "  23.294392347335815,\n",
       "  22.973990201950073),\n",
       " 'test_time': (4.558228969573975,\n",
       "  4.104132652282715,\n",
       "  4.169611692428589,\n",
       "  5.218188047409058,\n",
       "  4.212496995925903)}"
      ]
     },
     "execution_count": 27,
     "metadata": {},
     "output_type": "execute_result"
    }
   ],
   "source": [
    "# Train an SVD algorithm on the dataset.\n",
    "algo = SVD()\n",
    "cross_validate(algo, data, measures=['RMSE', 'MAE'], cv=5, verbose=True)"
   ]
  },
  {
   "attachments": {},
   "cell_type": "markdown",
   "id": "aa39143a",
   "metadata": {},
   "source": [
    "Here we can see and uniformity on the RMSE and MAE no depending in the number of Fold. So we could conclude that the model has a moderated metric evaluations."
   ]
  },
  {
   "cell_type": "code",
   "execution_count": 43,
   "id": "6d80366d",
   "metadata": {},
   "outputs": [
    {
     "name": "stdout",
     "output_type": "stream",
     "text": [
      "For the movie ds14 the user 27833 would grade it at 3.4929522908688604\n",
      "Then the movie is not recommended\n"
     ]
    },
    {
     "data": {
      "text/plain": [
       "Prediction(uid=27833, iid='ds14', r_ui=None, est=3.4929522908688604, details={'was_impossible': False})"
      ]
     },
     "execution_count": 43,
     "metadata": {},
     "output_type": "execute_result"
    }
   ],
   "source": [
    "# so make prodiction let's choose randomly an user and a movie\n",
    "u = np.random.choice(df.shape[0])\n",
    "l = np.random.choice(df.shape[0])\n",
    "user = df.iloc[u, 0]\n",
    "movie = df.iloc[l, 2]\n",
    "\n",
    "threshold = 3.5\n",
    "\n",
    "prediction = algo.predict(user,movie)[3]\n",
    "print('For the movie {} the user {} would grade it at {}'.format(movie, user, prediction))\n",
    "if prediction > threshold:\n",
    "    print('Then the movie is recommended')\n",
    "else:\n",
    "    print('Then the movie is not recommended')\n",
    "algo.predict(user,movie)"
   ]
  }
 ],
 "metadata": {
  "kernelspec": {
   "display_name": "eda-env",
   "language": "python",
   "name": "python3"
  },
  "language_info": {
   "codemirror_mode": {
    "name": "ipython",
    "version": 3
   },
   "file_extension": ".py",
   "mimetype": "text/x-python",
   "name": "python",
   "nbconvert_exporter": "python",
   "pygments_lexer": "ipython3",
   "version": "3.10.9"
  }
 },
 "nbformat": 4,
 "nbformat_minor": 5
}
