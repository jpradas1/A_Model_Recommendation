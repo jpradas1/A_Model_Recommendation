{
 "cells": [
  {
   "cell_type": "code",
   "execution_count": 45,
   "metadata": {},
   "outputs": [],
   "source": [
    "import numpy as np\n",
    "import pandas as pd\n",
    "import matplotlib.pyplot as plt\n",
    "import seaborn as sns\n",
    "\n",
    "from unidecode import unidecode\n",
    "\n",
    "import sys\n",
    "sys.path.append('../../')\n",
    "\n",
    "from A_Model_Recommendation.ETL import ETL_class"
   ]
  },
  {
   "cell_type": "code",
   "execution_count": 4,
   "metadata": {},
   "outputs": [
    {
     "name": "stdout",
     "output_type": "stream",
     "text": [
      "(22998, 15)\n"
     ]
    },
    {
     "data": {
      "text/html": [
       "<div>\n",
       "<style scoped>\n",
       "    .dataframe tbody tr th:only-of-type {\n",
       "        vertical-align: middle;\n",
       "    }\n",
       "\n",
       "    .dataframe tbody tr th {\n",
       "        vertical-align: top;\n",
       "    }\n",
       "\n",
       "    .dataframe thead th {\n",
       "        text-align: right;\n",
       "    }\n",
       "</style>\n",
       "<table border=\"1\" class=\"dataframe\">\n",
       "  <thead>\n",
       "    <tr style=\"text-align: right;\">\n",
       "      <th></th>\n",
       "      <th>id</th>\n",
       "      <th>show_id</th>\n",
       "      <th>type</th>\n",
       "      <th>title</th>\n",
       "      <th>director</th>\n",
       "      <th>cast</th>\n",
       "      <th>country</th>\n",
       "      <th>date_added</th>\n",
       "      <th>release_year</th>\n",
       "      <th>rating</th>\n",
       "      <th>duration</th>\n",
       "      <th>duration_int</th>\n",
       "      <th>duration_type</th>\n",
       "      <th>listed_in</th>\n",
       "      <th>description</th>\n",
       "    </tr>\n",
       "  </thead>\n",
       "  <tbody>\n",
       "    <tr>\n",
       "      <th>0</th>\n",
       "      <td>as1</td>\n",
       "      <td>s1</td>\n",
       "      <td>movie</td>\n",
       "      <td>the grand seduction</td>\n",
       "      <td>don mckellar</td>\n",
       "      <td>brendan gleeson, taylor kitsch, gordon pinsent</td>\n",
       "      <td>canada</td>\n",
       "      <td>2021-03-30</td>\n",
       "      <td>2014</td>\n",
       "      <td>g</td>\n",
       "      <td>113 min</td>\n",
       "      <td>113.0</td>\n",
       "      <td>min</td>\n",
       "      <td>comedy, drama</td>\n",
       "      <td>a small fishing village must procure a local d...</td>\n",
       "    </tr>\n",
       "    <tr>\n",
       "      <th>1</th>\n",
       "      <td>as2</td>\n",
       "      <td>s2</td>\n",
       "      <td>movie</td>\n",
       "      <td>take care good night</td>\n",
       "      <td>girish joshi</td>\n",
       "      <td>mahesh manjrekar, abhay mahajan, sachin khedekar</td>\n",
       "      <td>india</td>\n",
       "      <td>2021-03-30</td>\n",
       "      <td>2018</td>\n",
       "      <td>13+</td>\n",
       "      <td>110 min</td>\n",
       "      <td>110.0</td>\n",
       "      <td>min</td>\n",
       "      <td>drama, international</td>\n",
       "      <td>a metro family decides to fight a cyber crimin...</td>\n",
       "    </tr>\n",
       "    <tr>\n",
       "      <th>2</th>\n",
       "      <td>as3</td>\n",
       "      <td>s3</td>\n",
       "      <td>movie</td>\n",
       "      <td>secrets of deception</td>\n",
       "      <td>josh webber</td>\n",
       "      <td>tom sizemore, lorenzo lamas, robert lasardo, r...</td>\n",
       "      <td>united states</td>\n",
       "      <td>2021-03-30</td>\n",
       "      <td>2017</td>\n",
       "      <td>g</td>\n",
       "      <td>74 min</td>\n",
       "      <td>74.0</td>\n",
       "      <td>min</td>\n",
       "      <td>action, drama, suspense</td>\n",
       "      <td>after a man discovers his wife is cheating on ...</td>\n",
       "    </tr>\n",
       "  </tbody>\n",
       "</table>\n",
       "</div>"
      ],
      "text/plain": [
       "    id show_id   type                 title      director  \\\n",
       "0  as1      s1  movie   the grand seduction  don mckellar   \n",
       "1  as2      s2  movie  take care good night  girish joshi   \n",
       "2  as3      s3  movie  secrets of deception   josh webber   \n",
       "\n",
       "                                                cast        country  \\\n",
       "0     brendan gleeson, taylor kitsch, gordon pinsent         canada   \n",
       "1   mahesh manjrekar, abhay mahajan, sachin khedekar          india   \n",
       "2  tom sizemore, lorenzo lamas, robert lasardo, r...  united states   \n",
       "\n",
       "  date_added  release_year rating duration  duration_int duration_type  \\\n",
       "0 2021-03-30          2014      g  113 min         113.0           min   \n",
       "1 2021-03-30          2018    13+  110 min         110.0           min   \n",
       "2 2021-03-30          2017      g   74 min          74.0           min   \n",
       "\n",
       "                 listed_in                                        description  \n",
       "0            comedy, drama  a small fishing village must procure a local d...  \n",
       "1     drama, international  a metro family decides to fight a cyber crimin...  \n",
       "2  action, drama, suspense  after a man discovers his wife is cheating on ...  "
      ]
     },
     "execution_count": 4,
     "metadata": {},
     "output_type": "execute_result"
    }
   ],
   "source": [
    "path_titles = './../dataset/titles/'\n",
    "path_rating = './../dataset/ratings/'\n",
    "etl = ETL_class(path_titles, path_rating)\n",
    "\n",
    "df_movies = etl.get_movies()\n",
    "print(df_movies.shape)\n",
    "df_movies.head(3)"
   ]
  },
  {
   "cell_type": "code",
   "execution_count": 5,
   "metadata": {},
   "outputs": [
    {
     "data": {
      "text/plain": [
       "id                   0\n",
       "show_id              0\n",
       "type                 0\n",
       "title                0\n",
       "director          8259\n",
       "cast              5321\n",
       "country          11499\n",
       "date_added        9554\n",
       "release_year         0\n",
       "rating               0\n",
       "duration           482\n",
       "duration_int       482\n",
       "duration_type      482\n",
       "listed_in            0\n",
       "description          4\n",
       "dtype: int64"
      ]
     },
     "execution_count": 5,
     "metadata": {},
     "output_type": "execute_result"
    }
   ],
   "source": [
    "df_movies.isna().sum()"
   ]
  },
  {
   "cell_type": "code",
   "execution_count": 6,
   "metadata": {},
   "outputs": [
    {
     "data": {
      "image/png": "[encoded data removed]",
      "text/plain": [
       "<Figure size 800x400 with 2 Axes>"
      ]
     },
     "metadata": {},
     "output_type": "display_data"
    }
   ],
   "source": [
    "# sought some outliers in release_year, duration_int\n",
    "plt.figure(figsize=(8,4))\n",
    "\n",
    "plt.subplot(1,2,1)\n",
    "ax = sns.histplot(df_movies['release_year'])\n",
    "plt.subplot(1,2,2)\n",
    "ax = sns.histplot(df_movies['duration_int'])\n",
    "plt.tight_layout()\n",
    "plt.show()"
   ]
  },
  {
   "cell_type": "code",
   "execution_count": 7,
   "metadata": {},
   "outputs": [
    {
     "name": "stdout",
     "output_type": "stream",
     "text": [
      "(11024165, 4)\n"
     ]
    },
    {
     "data": {
      "text/html": [
       "<div>\n",
       "<style scoped>\n",
       "    .dataframe tbody tr th:only-of-type {\n",
       "        vertical-align: middle;\n",
       "    }\n",
       "\n",
       "    .dataframe tbody tr th {\n",
       "        vertical-align: top;\n",
       "    }\n",
       "\n",
       "    .dataframe thead th {\n",
       "        text-align: right;\n",
       "    }\n",
       "</style>\n",
       "<table border=\"1\" class=\"dataframe\">\n",
       "  <thead>\n",
       "    <tr style=\"text-align: right;\">\n",
       "      <th></th>\n",
       "      <th>userId</th>\n",
       "      <th>rating</th>\n",
       "      <th>timestamp</th>\n",
       "      <th>movieId</th>\n",
       "    </tr>\n",
       "  </thead>\n",
       "  <tbody>\n",
       "    <tr>\n",
       "      <th>0</th>\n",
       "      <td>1</td>\n",
       "      <td>1.0</td>\n",
       "      <td>1425941529</td>\n",
       "      <td>as680</td>\n",
       "    </tr>\n",
       "    <tr>\n",
       "      <th>1</th>\n",
       "      <td>1</td>\n",
       "      <td>4.5</td>\n",
       "      <td>1425942435</td>\n",
       "      <td>ns2186</td>\n",
       "    </tr>\n",
       "    <tr>\n",
       "      <th>2</th>\n",
       "      <td>1</td>\n",
       "      <td>5.0</td>\n",
       "      <td>1425941523</td>\n",
       "      <td>hs2381</td>\n",
       "    </tr>\n",
       "    <tr>\n",
       "      <th>3</th>\n",
       "      <td>1</td>\n",
       "      <td>5.0</td>\n",
       "      <td>1425941546</td>\n",
       "      <td>ns3663</td>\n",
       "    </tr>\n",
       "    <tr>\n",
       "      <th>4</th>\n",
       "      <td>1</td>\n",
       "      <td>5.0</td>\n",
       "      <td>1425941556</td>\n",
       "      <td>as9500</td>\n",
       "    </tr>\n",
       "  </tbody>\n",
       "</table>\n",
       "</div>"
      ],
      "text/plain": [
       "   userId  rating   timestamp movieId\n",
       "0       1     1.0  1425941529   as680\n",
       "1       1     4.5  1425942435  ns2186\n",
       "2       1     5.0  1425941523  hs2381\n",
       "3       1     5.0  1425941546  ns3663\n",
       "4       1     5.0  1425941556  as9500"
      ]
     },
     "execution_count": 7,
     "metadata": {},
     "output_type": "execute_result"
    }
   ],
   "source": [
    "df_rating = etl.get_ratings()\n",
    "print(df_rating.shape)\n",
    "df_rating.head()"
   ]
  },
  {
   "cell_type": "code",
   "execution_count": 8,
   "metadata": {},
   "outputs": [
    {
     "data": {
      "text/plain": [
       "(11024165, 4)"
      ]
     },
     "execution_count": 8,
     "metadata": {},
     "output_type": "execute_result"
    }
   ],
   "source": [
    "df_rating.shape"
   ]
  },
  {
   "cell_type": "code",
   "execution_count": 9,
   "metadata": {},
   "outputs": [
    {
     "data": {
      "image/png": "[encoded data removed]",
      "text/plain": [
       "<Figure size 800x400 with 1 Axes>"
      ]
     },
     "metadata": {},
     "output_type": "display_data"
    }
   ],
   "source": [
    "plt.figure(figsize=(8,4))\n",
    "plt.hist(df_rating.rating.values, bins=4, alpha=0.8)\n",
    "plt.show()"
   ]
  },
  {
   "cell_type": "code",
   "execution_count": 10,
   "metadata": {},
   "outputs": [
    {
     "data": {
      "text/plain": [
       "Index(['id', 'show_id', 'type', 'title', 'director', 'cast', 'country',\n",
       "       'date_added', 'release_year', 'rating', 'duration', 'duration_int',\n",
       "       'duration_type', 'listed_in', 'description'],\n",
       "      dtype='object')"
      ]
     },
     "execution_count": 10,
     "metadata": {},
     "output_type": "execute_result"
    }
   ],
   "source": [
    "df_movies.columns"
   ]
  },
  {
   "cell_type": "code",
   "execution_count": 11,
   "metadata": {},
   "outputs": [
    {
     "data": {
      "text/plain": [
       "Index(['userId', 'rating', 'timestamp', 'movieId'], dtype='object')"
      ]
     },
     "execution_count": 11,
     "metadata": {},
     "output_type": "execute_result"
    }
   ],
   "source": [
    "df_rating.columns"
   ]
  },
  {
   "cell_type": "code",
   "execution_count": 30,
   "metadata": {},
   "outputs": [
    {
     "name": "stdout",
     "output_type": "stream",
     "text": [
      "The longest movie or series in duration [min] is 'soothing surf at del norte for sleep black screen', it lasts 601.0 min\n"
     ]
    },
    {
     "data": {
      "text/plain": [
       "{'title': 'soothing surf at del norte for sleep black screen',\n",
       " 'duration_int': 601.0,\n",
       " 'duration_type': 'min'}"
      ]
     },
     "execution_count": 30,
     "metadata": {},
     "output_type": "execute_result"
    }
   ],
   "source": [
    "# the longest movie in duration with optional filters (year, platform, duration_type)\n",
    "last_year = np.sort(df_movies['release_year'].unique())[-1]\n",
    "\n",
    "def get_max_duration(year=last_year, platform=None, duration_type='min'):\n",
    "    if platform != None:\n",
    "        platform = platform.lower()\n",
    "    duration_type = duration_type.lower()\n",
    "    \n",
    "    df = df_movies[['id','release_year','duration_int','duration_type']]\n",
    "    \n",
    "    if platform == None:\n",
    "        idx = df.loc[(df['duration_type'] == duration_type) & (df['release_year'] == year)]['duration_int'].idxmax()\n",
    "        result = pd.DataFrame(df_movies.iloc[idx]).dropna()\n",
    "        return result.T\n",
    "    \n",
    "    begins = platform[0]\n",
    "    df = df.loc[(df['duration_type'] == duration_type) & (df['release_year'] == year)]\n",
    "    df = df.loc[df['id'].str.contains('^{}'.format(begins))]\n",
    "    idx = df.loc[df.duration_int == df.duration_int.max()].id.values[0]\n",
    "    row = df_movies.loc[df_movies['id'] == str(idx)][['title', 'duration_int', 'duration_type']]\n",
    "    column = row.columns\n",
    "    result = {c: v for (c,v) in zip(column, row.values[0])}\n",
    "    print(\"The longest movie or series in duration [{}] is '{}', it lasts {} {}\".format(duration_type, row['title'].values[0],row['duration_int'].values[0],duration_type))\n",
    "    \n",
    "    return result\n",
    "\n",
    "get_max_duration(year=2018, platform='amazon')"
   ]
  },
  {
   "cell_type": "code",
   "execution_count": 11,
   "metadata": {},
   "outputs": [
    {
     "data": {
      "text/plain": [
       "110"
      ]
     },
     "execution_count": 11,
     "metadata": {},
     "output_type": "execute_result"
    }
   ],
   "source": [
    "# Number of movies by platform with a score greater than P in a certain year\n",
    "def get_score_count(platform, scored = 0.0, year=last_year):\n",
    "    platform = platform.lower()\n",
    "    \n",
    "    begins = platform[0]\n",
    "    df_m = df_movies[['id', 'release_year']]\n",
    "    df_m = df_m.loc[df_m.release_year == year]\n",
    "    df_m = df_m.loc[df_m['id'].str.contains('^{}'.format(begins))]\n",
    "    \n",
    "    merge = df_m.merge(df_rating[['movieId', 'rating']],left_on='id',right_on='movieId')\n",
    "    merge = merge[['id', 'rating']].groupby(['id']).agg('mean')\n",
    "    result = merge[merge.rating >= scored].shape[0]\n",
    "    return result\n",
    "\n",
    "year = 2006\n",
    "get_score_count(platform='Amazon',scored=3.5,year=year)"
   ]
  },
  {
   "cell_type": "code",
   "execution_count": 18,
   "metadata": {},
   "outputs": [
    {
     "data": {
      "text/plain": [
       "9668"
      ]
     },
     "execution_count": 18,
     "metadata": {},
     "output_type": "execute_result"
    }
   ],
   "source": [
    "# Amount of movies by platform\n",
    "def get_count_platform(platform=None):\n",
    "    if platform == None:\n",
    "        result = df_movies[['id']].drop_duplicates()\n",
    "        result = df_movies.shape[0]\n",
    "        return result\n",
    "    else:\n",
    "        platform = platform.lower()\n",
    "        begins = platform[0]\n",
    "        df = df_movies.loc[df_movies['id'].str.contains('^{}'.format(begins))]\n",
    "        result = df.shape[0]\n",
    "        return result\n",
    "get_count_platform('Amazon')"
   ]
  },
  {
   "cell_type": "code",
   "execution_count": 72,
   "metadata": {},
   "outputs": [
    {
     "data": {
      "text/plain": [
       "{'nan': 9,\n",
       " 'bharat jadhav': 3,\n",
       " 'cary-hiroyuki tagawa': 3,\n",
       " 'sunil tawde': 3,\n",
       " 'vijay chavan': 3}"
      ]
     },
     "execution_count": 72,
     "metadata": {},
     "output_type": "execute_result"
    }
   ],
   "source": [
    "# Most frequent actor by platform and year\n",
    "def get_actor(platform: str, year: int):\n",
    "    begins = platform[0]\n",
    "    df = df_movies[['id','cast', 'release_year']].loc[df_movies.release_year == year]\n",
    "    df = df.loc[df.id.str.contains('^{}'.format(begins))]\n",
    "    \n",
    "    actors = [a for x in df.cast.values for a in str(x).strip( ).split(', ')]\n",
    "    actors = [unidecode(x).lower() for x in actors]\n",
    "    \n",
    "    values, counts = np.unique(actors, return_counts=True)\n",
    "    cast = {v: int(c) for v, c in zip(values,counts)}\n",
    "    \n",
    "    sorted_cast = dict(sorted(cast.items(), key=lambda item: item[1], reverse=True))\n",
    "    itemx = max(cast.values())\n",
    "#     max_keys = {k: v for k, v in cast.items() if v == itemx}\n",
    "    max_keys = {k: v for k, v in list(sorted_cast.items())[:5]}\n",
    "    \n",
    "    return max_keys\n",
    "\n",
    "get_actor(platform='amazon',year=2005)"
   ]
  },
  {
   "cell_type": "code",
   "execution_count": null,
   "metadata": {},
   "outputs": [],
   "source": [
    "# "
   ]
  }
 ],
 "metadata": {
  "kernelspec": {
   "display_name": "Python 3 (ipykernel)",
   "language": "python",
   "name": "python3"
  },
  "language_info": {
   "codemirror_mode": {
    "name": "ipython",
    "version": 3
   },
   "file_extension": ".py",
   "mimetype": "text/x-python",
   "name": "python",
   "nbconvert_exporter": "python",
   "pygments_lexer": "ipython3",
   "version": "3.11.2"
  },
  "vscode": {
   "interpreter": {
    "hash": "8893c9f0b41c52206ab81671935be6d1c2c1cdd7ba0915ca723914b23f8cb712"
   }
  }
 },
 "nbformat": 4,
 "nbformat_minor": 2
}
